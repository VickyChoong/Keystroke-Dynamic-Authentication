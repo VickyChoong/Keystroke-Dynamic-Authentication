{
 "cells": [
  {
   "cell_type": "code",
   "execution_count": 2,
   "metadata": {},
   "outputs": [],
   "source": [
    "import pandas as pd\n",
    "import numpy as np\n",
    "from sklearn.model_selection import train_test_split\n",
    "from sklearn.preprocessing import StandardScaler\n",
    "from sklearn.neighbors import KNeighborsClassifier\n",
    "from sklearn.metrics import classification_report, accuracy_score\n",
    "from sklearn.preprocessing import LabelEncoder"
   ]
  },
  {
   "cell_type": "code",
   "execution_count": 3,
   "metadata": {},
   "outputs": [],
   "source": [
    "# Load the data\n",
    "data = pd.read_csv('DSL-StrongPasswordData.csv')"
   ]
  },
  {
   "cell_type": "code",
   "execution_count": 4,
   "metadata": {},
   "outputs": [],
   "source": [
    "# Prepare the features (X) and target (y)\n",
    "X = data.drop(columns=['subject', 'sessionIndex', 'rep'])  # Exclude non-feature columns\n",
    "y = data['subject'].astype('category')  # The 'subject' column is the target (user ID)\n",
    "\n",
    "# Encode the target labels as numerical values\n",
    "label_encoder = LabelEncoder()\n",
    "y_encoded = label_encoder.fit_transform(y)"
   ]
  },
  {
   "cell_type": "code",
   "execution_count": 5,
   "metadata": {},
   "outputs": [],
   "source": [
    "# Split the dataset into training and test sets (80% training, 20% testing)\n",
    "X_train, X_test, y_train, y_test = train_test_split(X, y_encoded, test_size=0.2, random_state=1, stratify=y_encoded)\n",
    "\n",
    "# Standardize the features (normalize the data)\n",
    "scaler = StandardScaler()\n",
    "X_train_scaled = scaler.fit_transform(X_train)\n",
    "X_test_scaled = scaler.transform(X_test)\n",
    "\n",
    "# Initialize the k-NN classifier with Euclidean distance\n",
    "knn = KNeighborsClassifier(n_neighbors=5, metric='euclidean')"
   ]
  },
  {
   "cell_type": "code",
   "execution_count": 6,
   "metadata": {},
   "outputs": [],
   "source": [
    "# Train the k-NN model\n",
    "knn.fit(X_train_scaled, y_train)\n",
    "\n",
    "# Make predictions on the test data\n",
    "y_pred = knn.predict(X_test_scaled)"
   ]
  },
  {
   "cell_type": "code",
   "execution_count": 7,
   "metadata": {},
   "outputs": [
    {
     "name": "stdout",
     "output_type": "stream",
     "text": [
      "Accuracy: 84.93%\n"
     ]
    }
   ],
   "source": [
    "# Evaluate the model performance\n",
    "print(f\"Accuracy: {accuracy_score(y_test, y_pred) * 100:.2f}%\")"
   ]
  },
  {
   "cell_type": "code",
   "execution_count": 8,
   "metadata": {},
   "outputs": [
    {
     "name": "stdout",
     "output_type": "stream",
     "text": [
      "\n",
      "Classification Report:\n",
      "               precision    recall  f1-score   support\n",
      "\n",
      "           2       0.55      0.88      0.67        80\n",
      "           3       0.84      0.90      0.87        80\n",
      "           4       0.80      0.86      0.83        80\n",
      "           5       0.86      0.89      0.87        80\n",
      "           7       0.71      0.85      0.77        80\n",
      "           8       0.70      0.78      0.74        80\n",
      "          10       0.78      0.94      0.85        80\n",
      "          11       0.92      0.82      0.87        80\n",
      "          12       0.88      0.84      0.86        80\n",
      "          13       0.81      0.88      0.84        80\n",
      "          15       0.88      0.74      0.80        80\n",
      "          16       0.71      0.97      0.82        80\n",
      "          17       0.92      0.99      0.95        80\n",
      "          18       0.95      0.75      0.84        80\n",
      "          19       0.85      0.96      0.90        80\n",
      "          20       0.79      0.72      0.76        80\n",
      "          21       0.76      0.74      0.75        80\n",
      "          22       0.93      0.95      0.94        80\n",
      "          24       0.87      0.91      0.89        80\n",
      "          25       0.81      0.99      0.89        80\n",
      "          26       0.68      0.96      0.80        80\n",
      "          27       0.88      0.86      0.87        80\n",
      "          28       0.93      0.96      0.94        80\n",
      "          29       0.79      0.82      0.80        80\n",
      "          30       0.91      0.90      0.91        80\n",
      "          31       0.80      0.70      0.75        80\n",
      "          32       0.81      0.47      0.60        80\n",
      "          33       0.93      0.94      0.93        80\n",
      "          34       0.93      0.66      0.77        80\n",
      "          35       0.98      0.79      0.88        80\n",
      "          36       0.93      0.97      0.95        80\n",
      "          37       0.87      0.78      0.82        80\n",
      "          38       0.90      0.90      0.90        80\n",
      "          39       0.85      0.86      0.86        80\n",
      "          40       0.91      0.85      0.88        80\n",
      "          41       0.97      0.81      0.88        80\n",
      "          42       0.97      0.94      0.96        80\n",
      "          43       0.94      0.95      0.94        80\n",
      "          44       0.86      0.93      0.89        80\n",
      "          46       0.79      0.78      0.78        80\n",
      "          47       0.84      0.78      0.81        80\n",
      "          48       0.78      0.84      0.81        80\n",
      "          49       0.89      0.95      0.92        80\n",
      "          50       0.80      0.75      0.77        80\n",
      "          51       0.91      0.75      0.82        80\n",
      "          52       0.99      0.95      0.97        80\n",
      "          53       0.97      0.96      0.97        80\n",
      "          54       0.86      0.76      0.81        80\n",
      "          55       0.92      0.90      0.91        80\n",
      "          56       0.95      0.70      0.81        80\n",
      "          57       0.97      0.79      0.87        80\n",
      "\n",
      "    accuracy                           0.85      4080\n",
      "   macro avg       0.86      0.85      0.85      4080\n",
      "weighted avg       0.86      0.85      0.85      4080\n",
      "\n"
     ]
    }
   ],
   "source": [
    "# Get the original category labels for the classification report\n",
    "target_names = label_encoder.classes_.astype(str)  # Convert to string to avoid TypeError\n",
    "\n",
    "# Print classification report using the actual category labels\n",
    "print(\"\\nClassification Report:\\n\", classification_report(y_test, y_pred, target_names=target_names))"
   ]
  },
  {
   "cell_type": "code",
   "execution_count": 9,
   "metadata": {},
   "outputs": [
    {
     "name": "stdout",
     "output_type": "stream",
     "text": [
      "Training Accuracy: 89.96%\n"
     ]
    }
   ],
   "source": [
    "y_pred_train = knn.predict(X_train_scaled)\n",
    "print(f\"Training Accuracy: {accuracy_score(y_train, y_pred_train) * 100:.2f}%\")"
   ]
  },
  {
   "cell_type": "code",
   "execution_count": 12,
   "metadata": {},
   "outputs": [
    {
     "name": "stdout",
     "output_type": "stream",
     "text": [
      "Model saved successfully!\n",
      "Scaler saved successfully!\n"
     ]
    }
   ],
   "source": [
    "import joblib\n",
    "\n",
    "# Save the trained model\n",
    "joblib.dump(knn, 'knn_model.pkl')  # Save the model as 'knn_model.pkl'\n",
    "print(\"Model saved successfully!\")\n",
    "\n",
    "# Save the scaler as well to use it later during prediction\n",
    "joblib.dump(scaler, 'scaler_knn.pkl')  # Save the scaler used for normalization\n",
    "print(\"Scaler saved successfully!\")\n"
   ]
  },
  {
   "cell_type": "code",
   "execution_count": 13,
   "metadata": {},
   "outputs": [
    {
     "name": "stdout",
     "output_type": "stream",
     "text": [
      "Input shape for KNN model: 31 features\n"
     ]
    }
   ],
   "source": [
    "print(f\"Input shape for KNN model: {X_train.shape[1]} features\")\n"
   ]
  },
  {
   "cell_type": "code",
   "execution_count": 11,
   "metadata": {},
   "outputs": [
    {
     "data": {
      "image/png": "[encoded data removed]",
      "text/plain": [
       "<Figure size 800x600 with 1 Axes>"
      ]
     },
     "metadata": {},
     "output_type": "display_data"
    }
   ],
   "source": [
    "import numpy as np\n",
    "import matplotlib.pyplot as plt\n",
    "from sklearn.metrics import confusion_matrix\n",
    "\n",
    "# Function to calculate FAR and FRR at different thresholds\n",
    "def calculate_far_frr(y_true, y_scores, thresholds):\n",
    "    far_list = []\n",
    "    frr_list = []\n",
    "    for thresh in thresholds:\n",
    "        y_pred = (y_scores >= thresh).astype(int)\n",
    "        conf_matrix = confusion_matrix(y_true, y_pred, labels=[1, 0])\n",
    "        true_positive = conf_matrix[0, 0]\n",
    "        false_positive = conf_matrix[1, 0]\n",
    "        false_negative = conf_matrix[0, 1]\n",
    "        true_negative = conf_matrix[1, 1]\n",
    "        \n",
    "        far = false_positive / (false_positive + true_negative) if (false_positive + true_negative) > 0 else 0\n",
    "        frr = false_negative / (true_positive + false_negative) if (true_positive + false_negative) > 0 else 0\n",
    "        \n",
    "        far_list.append(far)\n",
    "        frr_list.append(frr)\n",
    "    \n",
    "    return np.array(far_list), np.array(frr_list)\n",
    "\n",
    "# Example data (replace with your actual prediction scores and labels)\n",
    "y_true = np.array([1, 1, 0, 0, 1, 0, 1, 1, 0, 0])  # True labels\n",
    "y_scores = np.array([0.9, 0.8, 0.4, 0.2, 0.7, 0.1, 0.85, 0.95, 0.3, 0.2])  # Predicted scores\n",
    "\n",
    "# Thresholds for evaluation\n",
    "thresholds = np.linspace(0, 1, 100)\n",
    "\n",
    "# Calculate FAR and FRR\n",
    "far, frr = calculate_far_frr(y_true, y_scores, thresholds)\n",
    "\n",
    "# Calculate EER (Equal Error Rate)\n",
    "eer_threshold = thresholds[np.argmin(np.abs(far - frr))]\n",
    "eer = far[np.argmin(np.abs(far - frr))]\n",
    "\n",
    "# Plot the FAR, FRR, and EER\n",
    "plt.figure(figsize=(8, 6))\n",
    "plt.plot(thresholds, far, label=\"FAR (False Acceptance Rate)\", color=\"blue\")\n",
    "plt.plot(thresholds, frr, label=\"FRR (False Rejection Rate)\", color=\"orange\")\n",
    "plt.axvline(eer_threshold, color=\"red\", linestyle=\"--\", label=f\"EER = {eer:.2f}\")\n",
    "plt.scatter([eer_threshold], [eer], color=\"red\", zorder=5)\n",
    "\n",
    "# Labels and legend\n",
    "plt.title(\"FAR, FRR, and EER for Keystroke Dynamics\")\n",
    "plt.xlabel(\"Threshold\")\n",
    "plt.ylabel(\"Error Rate\")\n",
    "plt.legend()\n",
    "plt.grid()\n",
    "plt.show()\n"
   ]
  }
 ],
 "metadata": {
  "kernelspec": {
   "display_name": "Python 3",
   "language": "python",
   "name": "python3"
  },
  "language_info": {
   "codemirror_mode": {
    "name": "ipython",
    "version": 3
   },
   "file_extension": ".py",
   "mimetype": "text/x-python",
   "name": "python",
   "nbconvert_exporter": "python",
   "pygments_lexer": "ipython3",
   "version": "3.12.1"
  }
 },
 "nbformat": 4,
 "nbformat_minor": 2
}
